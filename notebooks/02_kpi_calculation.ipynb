{
  "nbformat": 4,
  "nbformat_minor": 0,
  "metadata": {
    "colab": {
      "provenance": []
    },
    "kernelspec": {
      "name": "python3",
      "display_name": "Python 3"
    },
    "language_info": {
      "name": "python"
    }
  },
  "cells": [
    {
      "cell_type": "markdown",
      "source": [
        "# 2. KPI Calculation\n",
        "In this notebook, we:\n",
        "- Load the cleaned stocktake data.\n",
        "- Calculate stock KPIs:\n",
        "  - **Net Change** per period.\n",
        "  - **Sell Through Rate (STR)**.\n",
        "- Group by store for summary.\n",
        "- Save KPI summary for visualization."
      ],
      "metadata": {
        "id": "5j3DuKxi-skQ"
      }
    },
    {
      "cell_type": "code",
      "source": [
        "# 📦 1. Import libraries\n",
        "import pandas as pd\n",
        "\n",
        "# 📂 2. Load cleaned data\n",
        "df = pd.read_csv('data/LEVIS_STOCKTAKE_cleaned.csv')\n",
        "\n",
        "# 🧾 3. Check structure\n",
        "print(df.head())\n",
        "print(df.info())\n",
        "\n",
        "# 📅 4. Ensure Period columns are datetime\n",
        "df['Period Start'] = pd.to_datetime(df['Period Start'], format='%Y-%m-%d')\n",
        "df['Period End'] = pd.to_datetime(df['Period End'], format='%Y-%m-%d')"
      ],
      "metadata": {
        "id": "S12TgCpKAAE1"
      },
      "execution_count": null,
      "outputs": []
    },
    {
      "cell_type": "code",
      "source": [
        "# 5. Calculate Stock Movement Metrics\n",
        "\n",
        "# Add Net Change column\n",
        "df['Net Change'] = (\n",
        "    df['Beginning Inventory']\n",
        "    + df['Shipment']\n",
        "    + df['Transfer In']\n",
        "    - df['Transfer Out']\n",
        "    - df['RTV']\n",
        "    - df['Sales']\n",
        "    - df['Ending Inventory']\n",
        ")\n",
        "\n",
        "# Add Sell Through Rate (STR) = Sales / (Sales + Ending Inventory)\n",
        "df['STR'] = df['Sales'] / (df['Sales'] + df['Ending Inventory']) * 100"
      ],
      "metadata": {
        "id": "P2lto4MTAA3J"
      },
      "execution_count": null,
      "outputs": []
    },
    {
      "cell_type": "code",
      "source": [
        "# 6. KPI\n",
        "\n",
        "# Group by Store\n",
        "store_summary = df.groupby('Store').agg({\n",
        "    'Sales': 'sum',\n",
        "    'Shipment': 'sum',\n",
        "    'Transfer In': 'sum',\n",
        "    'Transfer Out': 'sum',\n",
        "    'RTV': 'sum',\n",
        "    'Net Change': 'sum',\n",
        "    'STR': 'mean'\n",
        "}).reset_index()\n",
        "\n",
        "print(store_summary)\n",
        "\n",
        "# 💾 7. Save KPI Summary\n",
        "store_summary.to_csv('data/LEVIS_STORE_KPI_SUMMARY.csv', index=False)"
      ],
      "metadata": {
        "id": "eW2dcvWvAFG_"
      },
      "execution_count": null,
      "outputs": []
    }
  ]
}
