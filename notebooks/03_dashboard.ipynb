{
  "nbformat": 4,
  "nbformat_minor": 0,
  "metadata": {
    "colab": {
      "provenance": []
    },
    "kernelspec": {
      "name": "python3",
      "display_name": "Python 3"
    },
    "language_info": {
      "name": "python"
    }
  },
  "cells": [
    {
      "cell_type": "markdown",
      "source": [
        "# 3. Dashboard & Visualization\n",
        "\n",
        "In this notebook, we:\n",
        "- Visualize **Total Sales** per store.\n",
        "- Visualize **Average Sell Through Rate (STR)** per store.\n",
        "- Use a **Waterfall Chart** to show **Net Change** by store.\n",
        "- Add a scatter plot for shipment vs sales.\n"
      ],
      "metadata": {
        "id": "BwugWxEa2IRh"
      }
    },
    {
      "cell_type": "code",
      "execution_count": null,
      "metadata": {
        "id": "Vv3s8SP12E_q"
      },
      "outputs": [],
      "source": [
        "# 1. Import libraries\n",
        "import pandas as pd\n",
        "import plotly.express as px\n",
        "import plotly.graph_objects as go\n",
        "\n",
        "# 2. Load KPI summary\n",
        "kpi_df = pd.read_csv('data/LEVIS_STORE_KPI_SUMMARY.csv')\n",
        "\n",
        "print(kpi_df.head())"
      ]
    },
    {
      "cell_type": "code",
      "source": [
        "# 3. Bar Chart: Total Sales per Store\n",
        "\n",
        "fig_sales = px.bar(\n",
        "    kpi_df,\n",
        "    x='Store',\n",
        "    y='Sales',\n",
        "    title='Total Sales per Store',\n",
        "    text_auto=True,\n",
        "    color='Sales',\n",
        "    color_continuous_scale='Blues'\n",
        ")\n",
        "fig_sales.show()\n",
        "\n",
        "# 4. Bar Chart: Average STR per Store\n",
        "\n",
        "fig_str = px.bar(\n",
        "    kpi_df,\n",
        "    x='Store',\n",
        "    y='STR',\n",
        "    title='Average Sell Through Rate (STR) per Store',\n",
        "    text_auto='.2f',\n",
        "    color='STR',\n",
        "    color_continuous_scale='Purples'\n",
        ")\n",
        "fig_str.show()\n",
        "\n",
        "# 5. Waterfall Chart: Net Movement by Store\n",
        "\n",
        "fig_waterfall = go.Figure(go.Waterfall(\n",
        "    name = \"Net Change\",\n",
        "    orientation = \"v\",\n",
        "    x = kpi_df['Store'],\n",
        "    y = kpi_df['Net Change'],\n",
        "    decreasing = {\"marker\":{\"color\":\"red\"}},\n",
        "    increasing = {\"marker\":{\"color\":\"green\"}},\n",
        "    totals = {\"marker\":{\"color\":\"blue\"}},\n",
        "))\n",
        "\n",
        "fig_waterfall.update_layout(\n",
        "    title=\"Net Change per Store\",\n",
        "    waterfallgroupgap = 0.5\n",
        ")\n",
        "\n",
        "fig_waterfall.show()"
      ],
      "metadata": {
        "id": "jCTRF7It2m_M"
      },
      "execution_count": null,
      "outputs": []
    },
    {
      "cell_type": "code",
      "source": [
        "# 6. Optional: More charts!\n",
        "# Example: Shipment vs Sales Scatter\n",
        "fig_scatter = px.scatter(\n",
        "    kpi_df,\n",
        "    x='Shipment',\n",
        "    y='Sales',\n",
        "    size='STR',\n",
        "    color='Store',\n",
        "    title='Shipment vs Sales (Bubble Size = STR)'\n",
        ")\n",
        "fig_scatter.show()"
      ],
      "metadata": {
        "id": "VSl7pwT821sR"
      },
      "execution_count": null,
      "outputs": []
    }
  ]
}