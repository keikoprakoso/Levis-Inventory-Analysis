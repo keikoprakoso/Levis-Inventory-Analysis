{
  "nbformat": 4,
  "nbformat_minor": 0,
  "metadata": {
    "colab": {
      "provenance": []
    },
    "kernelspec": {
      "name": "python3",
      "display_name": "Python 3"
    },
    "language_info": {
      "name": "python"
    }
  },
  "cells": [
    {
      "cell_type": "markdown",
      "source": [
        "\n",
        "# **LEVIS Stocktake KPI Dashboard Project**"
      ],
      "metadata": {
        "id": "Uh_nCijt7bi3"
      }
    },
    {
      "cell_type": "markdown",
      "source": [
        "# 1. Data Cleaning\n",
        "This notebook cleans the raw LEVIS stocktake data:\n",
        "- Loads the raw `.csv`\n",
        "- Parses period dates\n",
        "- Cleans numeric columns (removes commas, extra zeros)\n",
        "- Drops duplicates\n",
        "- Checks for missing values\n",
        "- Saves the cleaned file for analysis\n",
        "\n",
        "**Next step:** Use this cleaned data for KPI calculation and dashboard"
      ],
      "metadata": {
        "id": "zsD6C2eR8wqg"
      }
    },
    {
      "cell_type": "code",
      "execution_count": null,
      "metadata": {
        "id": "bqCrYdUv7S6M"
      },
      "outputs": [],
      "source": [
        "# 📦 1. Import libraries\n",
        "import pandas as pd\n",
        "\n",
        "# 📂 2. Load raw CSV data\n",
        "# Replace with your Google Colab path if needed (e.g., /content/LEVIS_STOCKTAKE.csv)\n",
        "df = pd.read_csv('data/LEVIS STOCKTAKE.csv')\n",
        "\n",
        "# 🔍 3. Quick preview\n",
        "print(df.head())\n",
        "print(df.info())"
      ]
    },
    {
      "cell_type": "code",
      "source": [
        "# 📅 4. Parse Period Start and Period End\n",
        "df['Period Start'] = pd.to_datetime(df['Period Start'], format='%d/%m/%Y')\n",
        "df['Period End'] = pd.to_datetime(df['Period End'], format='%d/%m/%Y')\n",
        "\n",
        "# 🔢 5. Clean numeric columns\n",
        "numeric_cols = ['Beginning Inventory', 'Shipment', 'Transfer In',\n",
        "                'Transfer Out', 'RTV', 'Sales', 'Ending Inventory']"
      ],
      "metadata": {
        "id": "_roYNOpX8F3L"
      },
      "execution_count": null,
      "outputs": []
    },
    {
      "cell_type": "code",
      "source": [
        "for col in numeric_cols:\n",
        "    # Remove unwanted trailing zeros if needed\n",
        "    df[col] = (\n",
        "        df[col].astype(str)\n",
        "               .str.replace(',', '', regex=False)\n",
        "               .str.replace('.0', '', regex=False)  # remove .0 if exists\n",
        "               .str.strip()\n",
        "               .astype(float) / 100 if df[col].astype(str).str.endswith('00.0').any() else\n",
        "        df[col].astype(str)\n",
        "               .str.replace(',', '', regex=False)\n",
        "               .str.replace('.', '', regex=False)\n",
        "               .astype(float)\n",
        "    )"
      ],
      "metadata": {
        "id": "W6xaKapm8M2l"
      },
      "execution_count": null,
      "outputs": []
    },
    {
      "cell_type": "code",
      "source": [
        "# 🧹 6. Drop duplicates if any\n",
        "df.drop_duplicates(inplace=True)\n",
        "\n",
        "# 🕵️ 7. Check for missing values\n",
        "print(\"Missing values:\\n\", df.isnull().sum())\n",
        "\n",
        "# 💾 8. Save cleaned file\n",
        "df.to_csv('data/LEVIS_STOCKTAKE_cleaned.csv', index=False)\n",
        "\n",
        "# ✅ 9. Preview cleaned data\n",
        "df.head()"
      ],
      "metadata": {
        "id": "neUbevHN8Pm6"
      },
      "execution_count": null,
      "outputs": []
    }
  ]
}